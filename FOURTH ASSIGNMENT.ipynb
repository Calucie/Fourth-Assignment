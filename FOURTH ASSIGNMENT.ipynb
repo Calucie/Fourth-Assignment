{
 "cells": [
  {
   "cell_type": "code",
   "execution_count": 19,
   "id": "c909d7a5",
   "metadata": {},
   "outputs": [
    {
     "name": "stdout",
     "output_type": "stream",
     "text": [
      "Enter First Name: Lucy\n",
      "Enter Last Name: Andy\n",
      "Enter Age:38\n",
      "Enter BP 200\n",
      "Hypertensive Crisis\n"
     ]
    }
   ],
   "source": [
    "fname = str(input(\"Enter First Name: \"))\n",
    "lname = str(input(\"Enter Last Name: \"))\n",
    "Age = int(input(\"Enter Age:\"))\n",
    "BP = int(input(\"Enter BP \"))\n",
    "\n",
    "IDEAL = 129\n",
    "LOW = 119\n",
    "\n",
    "if BP < 119 and BP > 80:\n",
    "    print(\"LOW BLOOD PRESURE\")\n",
    "    \n",
    "if BP < 129 and BP > 120:\n",
    "    print(\"Ideal\")\n",
    "    \n",
    "if BP < 139 and BP > 130:\n",
    "    print(\"Pre-High\")\n",
    "\n",
    "if BP < 140 and BP > 179 :\n",
    "    print(\"High Blood Pressure\")\n",
    "    \n",
    "if BP >= 180:\n",
    "    print(\"Hypertensive Crisis\")\n"
   ]
  },
  {
   "cell_type": "code",
   "execution_count": 11,
   "id": "97cba1f5",
   "metadata": {},
   "outputs": [
    {
     "name": "stdout",
     "output_type": "stream",
     "text": [
      "Enter First Name: Gil\n",
      "Enter Last Name: Kich\n",
      "Enter Age:23\n",
      "Enter Blood Sugar:5.2\n",
      "Normal\n"
     ]
    }
   ],
   "source": [
    "fname = str(input(\"Enter First Name: \"))\n",
    "lname = str(input(\"Enter Last Name: \"))\n",
    "Age = int(input(\"Enter Age:\"))\n",
    "\n",
    "BS = float(input(\"Enter Blood Sugar:\"))\n",
    "\n",
    "if BS > 5 and BS <= 5.6:\n",
    "    print(\"Normal\")\n",
    "    \n",
    "if BS >= 5.7 and BS <=6.4:  \n",
    "    print(\"High risk Diabete!\")\n",
    "    print(\"There is hope\")\n",
    "    \n",
    "if BS >= 6.5:\n",
    "    print(\"Diabetic! Book Appointment Immediatly!\")"
   ]
  },
  {
   "cell_type": "code",
   "execution_count": null,
   "id": "215caf25",
   "metadata": {},
   "outputs": [],
   "source": []
  }
 ],
 "metadata": {
  "kernelspec": {
   "display_name": "Python 3",
   "language": "python",
   "name": "python3"
  },
  "language_info": {
   "codemirror_mode": {
    "name": "ipython",
    "version": 3
   },
   "file_extension": ".py",
   "mimetype": "text/x-python",
   "name": "python",
   "nbconvert_exporter": "python",
   "pygments_lexer": "ipython3",
   "version": "3.8.8"
  }
 },
 "nbformat": 4,
 "nbformat_minor": 5
}
